{
 "cells": [
  {
   "cell_type": "code",
   "execution_count": 18,
   "id": "e3006f9a-af58-45f0-8c99-409fd21967bc",
   "metadata": {},
   "outputs": [],
   "source": [
    "import re\n",
    "\n",
    "def text2_list(text_path:str):\n",
    "    '''\n",
    "    text 2 list in text_path\n",
    "    output:list \n",
    "    '''\n",
    "    with open(text_path, \"r\") as tf:\n",
    "        lines = tf.read().split(',') # txt 의경우 ,구분으로 했습니다. \\t형식이면 바꾸셔도 되요!\n",
    "    return lines\n",
    "    \n",
    "\n",
    "def agree_text_filter(text:str, agree:list, space_mode = 0):\n",
    "    '''\n",
    "    데이터에 허용되는 욕설이 들어온다면 ### 처리해서 비욕설로 치환하거나 공백으로 표시해서 욕설로 감지되지않게함 공백적용시 space_mode :1\n",
    "    #처리나 공백이 모델에 영향을 줄수도 있을것같아요 \n",
    "    output: str\n",
    "    '''\n",
    "    for agree_one in agree:\n",
    "        if agree_one in text:\n",
    "            if space_mode == 0:\n",
    "                text = re.sub(agree_one,\"#\"*len(agree_one),text)\n",
    "            else:\n",
    "                text = re.sub(agree_one,\" \",text)\n",
    "        \n",
    "    return text\n",
    "    "
   ]
  },
  {
   "cell_type": "code",
   "execution_count": 28,
   "id": "ee27a2a5-84e2-4119-8d37-5e7d7a562fc7",
   "metadata": {},
   "outputs": [
    {
     "data": {
      "text/plain": [
       "['가', '나', '다', '사', '카']"
      ]
     },
     "execution_count": 28,
     "metadata": {},
     "output_type": "execute_result"
    }
   ],
   "source": [
    "agree = text2_list(\"가나다.txt\") \n",
    "agree"
   ]
  },
  {
   "cell_type": "code",
   "execution_count": 27,
   "id": "a55d8322-4e59-468e-bbaf-180d8881725a",
   "metadata": {},
   "outputs": [
    {
     "name": "stdout",
     "output_type": "stream",
     "text": [
      "가\n",
      "나\n",
      "다\n",
      "사\n",
      "카\n",
      "###라마바#\n"
     ]
    }
   ],
   "source": [
    "result = agree_text_filter(\"가나다라마바사\",agree)\n",
    "print(result)"
   ]
  },
  {
   "cell_type": "code",
   "execution_count": null,
   "id": "da8e6b86-4a07-4b49-9416-e88f04a91e86",
   "metadata": {},
   "outputs": [],
   "source": []
  }
 ],
 "metadata": {
  "kernelspec": {
   "display_name": "Python 3 (ipykernel)",
   "language": "python",
   "name": "python3"
  },
  "language_info": {
   "codemirror_mode": {
    "name": "ipython",
    "version": 3
   },
   "file_extension": ".py",
   "mimetype": "text/x-python",
   "name": "python",
   "nbconvert_exporter": "python",
   "pygments_lexer": "ipython3",
   "version": "3.7.11"
  }
 },
 "nbformat": 4,
 "nbformat_minor": 5
}
