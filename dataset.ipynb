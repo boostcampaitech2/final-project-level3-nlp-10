{
 "cells": [
  {
   "cell_type": "code",
   "execution_count": 51,
   "metadata": {},
   "outputs": [],
   "source": [
    "# import koco\n",
    "# dataset = koco.load_dataset('korean-hate-speech', mode='train_dev')\n",
    "# testset = koco.load_dataset('korean-hate-speech', mode='test')"
   ]
  },
  {
   "cell_type": "code",
   "execution_count": 52,
   "metadata": {},
   "outputs": [],
   "source": [
    "# len(dataset['train']), len(dataset['dev'])"
   ]
  },
  {
   "cell_type": "code",
   "execution_count": 53,
   "metadata": {},
   "outputs": [],
   "source": [
    "# dataset['train'][0].keys()"
   ]
  },
  {
   "cell_type": "code",
   "execution_count": 54,
   "metadata": {},
   "outputs": [],
   "source": [
    "# dataset['train'][0]['comments']"
   ]
  },
  {
   "cell_type": "code",
   "execution_count": 55,
   "metadata": {},
   "outputs": [],
   "source": [
    "# train_dataset = dataset['train']\n",
    "# eval_dataset = dataset['dev']"
   ]
  },
  {
   "cell_type": "markdown",
   "metadata": {},
   "source": [
    "### comment preprocessing\n",
    "- 숫자는 욕설로 만들 수 있음\n",
    "- 초성만으로 이루어진 단어또한 비웃음이나 욕설로 만들 수 있음\n",
    "- 이모티콘은 실제 사용에서는 어떨지 모르나 데이터로 들어올 때는 학습에 방해될 것으로 예상됨(UNK 토큰으로 판단될 수 있다고 생각함)"
   ]
  },
  {
   "cell_type": "code",
   "execution_count": 56,
   "metadata": {},
   "outputs": [],
   "source": [
    "\"\"\" \n",
    "    Reference : https://gist.github.com/kse0202/9d3d8d519170064cefdd12fcb718afa0\n",
    "\"\"\"\n",
    "import re\n",
    "def preprocessing(dataset):\n",
    "    for i in range(len(dataset)):\n",
    "        comment = dataset['text'][i]\n",
    "        comment = re.sub(r'([♡❤✌❣♥ᆢ✊❤️✨⤵️☺️;”“☝●✔️ㆍ„♨⁉° ͜ʖ͡°╭∩╮ɑ]+)', ' ', comment)\n",
    "        comment = re.sub(r'[...]+','',comment)\n",
    "        emoji_pattern = re.compile(\"[\"\n",
    "                                u\"\\U0001F600-\\U0001F64F\"  # emoticons\n",
    "                                u\"\\U0001F300-\\U0001F5FF\"  # symbols & pictographs\n",
    "                                u\"\\U0001F680-\\U0001F6FF\"  # transport & map symbols\n",
    "                                u\"\\U0001F1E0-\\U0001F1FF\"  # flags (iOS)\n",
    "                                                    \"]+\", flags=re.UNICODE)\n",
    "        comment=  emoji_pattern.sub(r'', comment) # 유니코드로 이모티콘 지우기\n",
    "        dataset['text'][i] = comment\n",
    "    return dataset"
   ]
  },
  {
   "cell_type": "code",
   "execution_count": 57,
   "metadata": {},
   "outputs": [],
   "source": [
    "import pandas as pd\n",
    "train_dataset = pd.read_csv('tmp_curse.csv')"
   ]
  },
  {
   "cell_type": "code",
   "execution_count": 58,
   "metadata": {},
   "outputs": [
    {
     "name": "stderr",
     "output_type": "stream",
     "text": [
      "/opt/conda/envs/lightweight/lib/python3.7/site-packages/ipykernel_launcher.py:17: SettingWithCopyWarning: \n",
      "A value is trying to be set on a copy of a slice from a DataFrame\n",
      "\n",
      "See the caveats in the documentation: https://pandas.pydata.org/pandas-docs/stable/user_guide/indexing.html#returning-a-view-versus-a-copy\n"
     ]
    }
   ],
   "source": [
    "train_dataset = preprocessing(train_dataset)\n",
    "# eval_dataset = preprocessing(eval_dataset)"
   ]
  },
  {
   "cell_type": "code",
   "execution_count": 59,
   "metadata": {},
   "outputs": [
    {
     "name": "stdout",
     "output_type": "stream",
     "text": [
      "좌배 까는건 ㅇㅂ\n",
      "0\n"
     ]
    }
   ],
   "source": [
    "# print(train_dataset[0]['comments'])\n",
    "print(train_dataset['text'][0])\n",
    "print(train_dataset['curse'][0])"
   ]
  },
  {
   "cell_type": "code",
   "execution_count": 60,
   "metadata": {},
   "outputs": [],
   "source": [
    "# label_to_num = dict(\n",
    "#     none = 0, hate = 1\n",
    "# )\n",
    "# label_to_num\n"
   ]
  },
  {
   "cell_type": "code",
   "execution_count": 61,
   "metadata": {},
   "outputs": [
    {
     "data": {
      "text/plain": [
       "{'none': 0, 'curse': 1}"
      ]
     },
     "execution_count": 61,
     "metadata": {},
     "output_type": "execute_result"
    }
   ],
   "source": [
    "label_to_num = dict(\n",
    "    none = 0, curse = 1\n",
    ")\n",
    "label_to_num"
   ]
  },
  {
   "cell_type": "code",
   "execution_count": 62,
   "metadata": {},
   "outputs": [
    {
     "data": {
      "text/plain": [
       "{0: 'none', 1: 'curse'}"
      ]
     },
     "execution_count": 62,
     "metadata": {},
     "output_type": "execute_result"
    }
   ],
   "source": [
    "num_to_label = {}\n",
    "for k in label_to_num.keys():\n",
    "    num_to_label[label_to_num[k]]=k\n",
    "num_to_label"
   ]
  },
  {
   "cell_type": "code",
   "execution_count": 63,
   "metadata": {},
   "outputs": [],
   "source": [
    "# import pickle\n",
    "# with open('./label_to_num', 'rb') as f:\n",
    "#     label_to_num = pickle.load(f)\n",
    "\n",
    "# with open('./num_to_label', 'rb') as f:\n",
    "#     num_to_label = pickle.load(f)"
   ]
  },
  {
   "cell_type": "code",
   "execution_count": 64,
   "metadata": {},
   "outputs": [],
   "source": [
    "import pandas as pd\n",
    "from tqdm import trange\n",
    "\n",
    "def tocsv(dataset):\n",
    "    df = pd.DataFrame(columns=['text','label'])\n",
    "    for i in trange(len(dataset)):\n",
    "        df=df.append(\n",
    "            dict(\n",
    "                text=dataset['text'][i],\n",
    "                label=(0 if dataset['curse'][i]==0 else 1)\n",
    "            )\n",
    "            ,ignore_index=True)\n",
    "    return df"
   ]
  },
  {
   "cell_type": "code",
   "execution_count": 65,
   "metadata": {},
   "outputs": [
    {
     "name": "stderr",
     "output_type": "stream",
     "text": [
      "100%|██████████| 1107/1107 [00:02<00:00, 455.50it/s]\n"
     ]
    }
   ],
   "source": [
    "train_df = tocsv(train_dataset)\n",
    "# eval_df = tocsv(eval_dataset)"
   ]
  },
  {
   "cell_type": "code",
   "execution_count": 66,
   "metadata": {},
   "outputs": [
    {
     "name": "stdout",
     "output_type": "stream",
     "text": [
      "train dataset none 개수 : 853, curse 개수 : 254\n"
     ]
    }
   ],
   "source": [
    "print('train dataset none 개수 : {}, curse 개수 : {}'.format(list(train_df['label']).count(0), list(train_df['label']).count(1)))\n",
    "# print('eval dataset none 개수 : {}, hate 개수 : {}'.format(list(eval_df['label']).count(0), list(eval_df['label']).count(1)))"
   ]
  },
  {
   "cell_type": "code",
   "execution_count": 67,
   "metadata": {},
   "outputs": [],
   "source": [
    "train_df.to_csv('./curse.csv')\n",
    "# eval_df.to_csv('./eval_data.csv')"
   ]
  },
  {
   "cell_type": "markdown",
   "metadata": {},
   "source": [
    "토크나이저를 학습하지 말고 사전학습된 토크나이저를 사용하자.  \n",
    "  \n",
    "왜냐하면 문장내 어떤 단어가 올지 모르겠음 -> 단어가 더 많은 사전학습된 토크나이저가 유리하다고 판단  \n",
    "  \n",
    "또한, 전처리 부분에 있어서도 사전학습된 토크나이저가 성능이 좋은듯  \n",
    "  \n",
    "하지만 욕설에 대해서 토크나이징이 어떨지는 테스트해야할듯"
   ]
  },
  {
   "cell_type": "code",
   "execution_count": 68,
   "metadata": {},
   "outputs": [
    {
     "data": {
      "text/plain": [
       "PreTrainedTokenizerFast(name_or_path='emeraldgoose/bad-korean-tokenizer', vocab_size=50135, model_max_len=512, is_fast=True, padding_side='right', special_tokens={'unk_token': '[UNK]', 'sep_token': '[SEP]', 'pad_token': '[PAD]', 'cls_token': '[CLS]', 'mask_token': '[MASK]'})"
      ]
     },
     "execution_count": 68,
     "metadata": {},
     "output_type": "execute_result"
    }
   ],
   "source": [
    "from transformers import AutoTokenizer\n",
    "tokenizer = AutoTokenizer.from_pretrained(\"emeraldgoose/bad-korean-tokenizer\")\n",
    "tokenizer"
   ]
  },
  {
   "cell_type": "code",
   "execution_count": 69,
   "metadata": {},
   "outputs": [
    {
     "data": {
      "text/plain": [
       "{'꽆고': 50139,\n",
       " '뮫으면': 50138,\n",
       " '띙구렇게': 50137,\n",
       " '이라는둥': 50136,\n",
       " '껓뱀': 50135,\n",
       " '참지않긬': 50141,\n",
       " '재믺나요': 50140}"
      ]
     },
     "execution_count": 69,
     "metadata": {},
     "output_type": "execute_result"
    }
   ],
   "source": [
    "tokenizer.get_added_vocab()"
   ]
  },
  {
   "cell_type": "code",
   "execution_count": 70,
   "metadata": {},
   "outputs": [],
   "source": [
    "unk_ = []\n",
    "for text in list(train_df['text']):\n",
    "    tokens = tokenizer(text)['input_ids']\n",
    "    if 1 in tokens:\n",
    "        unk_.append([text, tokenizer.decode(tokens)])"
   ]
  },
  {
   "cell_type": "code",
   "execution_count": 71,
   "metadata": {},
   "outputs": [
    {
     "data": {
      "text/plain": [
       "[['싸캐스틱이다 / ː /', '[CLS] 싸캐스틱이다 / [UNK] / [SEP]'],\n",
       " ['집 그리 좋아보이진않는데 장인이 일도 못하게 한다고? 얼마정도ᄇᆞ는데 장인이',\n",
       "  '[CLS] 집 그리 좋아보이진않는데 장인이 일도 못하게 한다고? [UNK] 장인이 [SEP]'],\n",
       " ['여친먹는거 한 입 먹어밨는데 좀,,,,국물은 갠탆앗음',\n",
       "  '[CLS] 여친먹는거 한 입 먹어밨는데 좀,,,, 국물은 [UNK] [SEP]']]"
      ]
     },
     "execution_count": 71,
     "metadata": {},
     "output_type": "execute_result"
    }
   ],
   "source": [
    "unk_"
   ]
  },
  {
   "cell_type": "code",
   "execution_count": 73,
   "metadata": {},
   "outputs": [
    {
     "data": {
      "text/plain": [
       "2"
      ]
     },
     "execution_count": 73,
     "metadata": {},
     "output_type": "execute_result"
    }
   ],
   "source": [
    "adding = ['갠탆앗음', '얼마정도ᄇᆞ는데']\n",
    "tokenizer.add_tokens(adding)"
   ]
  },
  {
   "cell_type": "code",
   "execution_count": 76,
   "metadata": {},
   "outputs": [
    {
     "data": {
      "text/plain": [
       "{'꽆고': 50139,\n",
       " '뮫으면': 50138,\n",
       " '갠탆앗음': 50142,\n",
       " '띙구렇게': 50137,\n",
       " '이라는둥': 50136,\n",
       " '얼마정도ᄇᆞ는데': 50143,\n",
       " '껓뱀': 50135,\n",
       " '참지않긬': 50141,\n",
       " '재믺나요': 50140}"
      ]
     },
     "execution_count": 76,
     "metadata": {},
     "output_type": "execute_result"
    }
   ],
   "source": [
    "tokenizer.get_added_vocab()"
   ]
  },
  {
   "cell_type": "markdown",
   "metadata": {},
   "source": [
    "## 추가해야 할 단어들\n",
    "- 갠탆앗음\n",
    "- 얼마정도ᄇᆞ는데\n"
   ]
  },
  {
   "cell_type": "code",
   "execution_count": null,
   "metadata": {},
   "outputs": [],
   "source": []
  }
 ],
 "metadata": {
  "interpreter": {
   "hash": "d4d1e4263499bec80672ea0156c357c1ee493ec2b1c70f0acce89fc37c4a6abe"
  },
  "kernelspec": {
   "display_name": "Python 3.8.5 64-bit ('base': conda)",
   "language": "python",
   "name": "python3"
  },
  "language_info": {
   "codemirror_mode": {
    "name": "ipython",
    "version": 3
   },
   "file_extension": ".py",
   "mimetype": "text/x-python",
   "name": "python",
   "nbconvert_exporter": "python",
   "pygments_lexer": "ipython3",
   "version": "3.7.11"
  },
  "orig_nbformat": 4
 },
 "nbformat": 4,
 "nbformat_minor": 2
}
