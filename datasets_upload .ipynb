{
 "cells": [
  {
   "cell_type": "markdown",
   "id": "82e03aff-1fa0-4c66-a2ea-7e7c2b577fd4",
   "metadata": {},
   "source": [
    "## 1. Dataset 만들기\n",
    "\n",
    "https://huggingface.co/new-dataset"
   ]
  },
  {
   "cell_type": "markdown",
   "id": "543a6d93-7cee-40ec-ad78-5936db4ee608",
   "metadata": {
    "tags": []
   },
   "source": [
    "## 2. Dataset 다운후 올리기\n",
    "\n",
    "# $git lfs install # \n",
    "# $apt install curl\n",
    "# $curl -s https://packagecloud.io/install/repositories/github/git-lfs/script.deb.sh | sudo\n",
    "$apt install git-lfs\n",
    "git clone https://huggingface.co/datasets/hyeonduck/whiteboard_abuse_dataset # 자기 데이터 가저오기\n",
    "cd \"your_folder\"\n",
    "GIT_LFS_SKIP_SMUDGE=1"
   ]
  },
  {
   "cell_type": "markdown",
   "id": "a4540027-bf3c-4728-adeb-245213481e4e",
   "metadata": {},
   "source": [
    "$git lfs track \"data\"\n",
    "$git add \"data\"\n",
    "$git branch -M main\n",
    "$git commit -m \"upload data\"\n",
    "$git push orgin main"
   ]
  },
  {
   "cell_type": "code",
   "execution_count": null,
   "id": "03312b02-8e3e-4597-9476-e2fa547a3fcb",
   "metadata": {},
   "outputs": [],
   "source": []
  }
 ],
 "metadata": {
  "kernelspec": {
   "display_name": "Python 3 (ipykernel)",
   "language": "python",
   "name": "python3"
  },
  "language_info": {
   "codemirror_mode": {
    "name": "ipython",
    "version": 3
   },
   "file_extension": ".py",
   "mimetype": "text/x-python",
   "name": "python",
   "nbconvert_exporter": "python",
   "pygments_lexer": "ipython3",
   "version": "3.7.11"
  }
 },
 "nbformat": 4,
 "nbformat_minor": 5
}
