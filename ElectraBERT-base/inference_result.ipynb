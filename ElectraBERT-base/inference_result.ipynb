{
 "cells": [
  {
   "cell_type": "code",
   "execution_count": 22,
   "id": "fb70c6f0-5549-469e-a804-c0dc4f55ae1e",
   "metadata": {},
   "outputs": [
    {
     "name": "stdout",
     "output_type": "stream",
     "text": [
      "15641\n"
     ]
    },
    {
     "data": {
      "text/html": [
       "<div>\n",
       "<style scoped>\n",
       "    .dataframe tbody tr th:only-of-type {\n",
       "        vertical-align: middle;\n",
       "    }\n",
       "\n",
       "    .dataframe tbody tr th {\n",
       "        vertical-align: top;\n",
       "    }\n",
       "\n",
       "    .dataframe thead th {\n",
       "        text-align: right;\n",
       "    }\n",
       "</style>\n",
       "<table border=\"1\" class=\"dataframe\">\n",
       "  <thead>\n",
       "    <tr style=\"text-align: right;\">\n",
       "      <th></th>\n",
       "      <th>text</th>\n",
       "      <th>none</th>\n",
       "      <th>curse</th>\n",
       "    </tr>\n",
       "  </thead>\n",
       "  <tbody>\n",
       "    <tr>\n",
       "      <th>0</th>\n",
       "      <td>낯짝도 두껍다 ㄷㄷㄷ 티비에 버젓이 나오네</td>\n",
       "      <td>0.893</td>\n",
       "      <td>0.107</td>\n",
       "    </tr>\n",
       "    <tr>\n",
       "      <th>1</th>\n",
       "      <td>20대에는 고환에서 적당히해 하면서</td>\n",
       "      <td>0.957</td>\n",
       "      <td>0.043</td>\n",
       "    </tr>\n",
       "    <tr>\n",
       "      <th>2</th>\n",
       "      <td>배성재 저놈이 저러니깐 더 이상하다논란되는 애들 존나 칼같이 컷하네 ㅋㅋㅋㅋ</td>\n",
       "      <td>0.038</td>\n",
       "      <td>0.962</td>\n",
       "    </tr>\n",
       "    <tr>\n",
       "      <th>3</th>\n",
       "      <td>눈수술검사할때 이거 띄우고 노캠방 하면 되겠다</td>\n",
       "      <td>0.956</td>\n",
       "      <td>0.044</td>\n",
       "    </tr>\n",
       "    <tr>\n",
       "      <th>4</th>\n",
       "      <td>마닷 진짜 부럽네 역시 영앤리치인가ㅠ</td>\n",
       "      <td>0.958</td>\n",
       "      <td>0.042</td>\n",
       "    </tr>\n",
       "  </tbody>\n",
       "</table>\n",
       "</div>"
      ],
      "text/plain": [
       "                                         text   none  curse\n",
       "0                     낯짝도 두껍다 ㄷㄷㄷ 티비에 버젓이 나오네  0.893  0.107\n",
       "1                         20대에는 고환에서 적당히해 하면서  0.957  0.043\n",
       "2  배성재 저놈이 저러니깐 더 이상하다논란되는 애들 존나 칼같이 컷하네 ㅋㅋㅋㅋ  0.038  0.962\n",
       "3                   눈수술검사할때 이거 띄우고 노캠방 하면 되겠다  0.956  0.044\n",
       "4                        마닷 진짜 부럽네 역시 영앤리치인가ㅠ  0.958  0.042"
      ]
     },
     "execution_count": 22,
     "metadata": {},
     "output_type": "execute_result"
    }
   ],
   "source": [
    "import pandas as pd\n",
    "name = \"train\"\n",
    "df_inf = pd.read_csv(f\"./data/{name}WithElectra.tsv\", sep='\\t')\n",
    "print(len(df_inf))\n",
    "df_inf.head()"
   ]
  },
  {
   "cell_type": "code",
   "execution_count": 23,
   "id": "ba0af947-adf4-4b03-b732-059493ba4c00",
   "metadata": {},
   "outputs": [
    {
     "data": {
      "text/html": [
       "<div>\n",
       "<style scoped>\n",
       "    .dataframe tbody tr th:only-of-type {\n",
       "        vertical-align: middle;\n",
       "    }\n",
       "\n",
       "    .dataframe tbody tr th {\n",
       "        vertical-align: top;\n",
       "    }\n",
       "\n",
       "    .dataframe thead th {\n",
       "        text-align: right;\n",
       "    }\n",
       "</style>\n",
       "<table border=\"1\" class=\"dataframe\">\n",
       "  <thead>\n",
       "    <tr style=\"text-align: right;\">\n",
       "      <th></th>\n",
       "      <th>text</th>\n",
       "      <th>none</th>\n",
       "      <th>curse</th>\n",
       "      <th>label</th>\n",
       "    </tr>\n",
       "  </thead>\n",
       "  <tbody>\n",
       "    <tr>\n",
       "      <th>0</th>\n",
       "      <td>낯짝도 두껍다 ㄷㄷㄷ 티비에 버젓이 나오네</td>\n",
       "      <td>0.893</td>\n",
       "      <td>0.107</td>\n",
       "      <td>0</td>\n",
       "    </tr>\n",
       "    <tr>\n",
       "      <th>1</th>\n",
       "      <td>20대에는 고환에서 적당히해 하면서</td>\n",
       "      <td>0.957</td>\n",
       "      <td>0.043</td>\n",
       "      <td>0</td>\n",
       "    </tr>\n",
       "    <tr>\n",
       "      <th>2</th>\n",
       "      <td>배성재 저놈이 저러니깐 더 이상하다논란되는 애들 존나 칼같이 컷하네 ㅋㅋㅋㅋ</td>\n",
       "      <td>0.038</td>\n",
       "      <td>0.962</td>\n",
       "      <td>1</td>\n",
       "    </tr>\n",
       "    <tr>\n",
       "      <th>3</th>\n",
       "      <td>눈수술검사할때 이거 띄우고 노캠방 하면 되겠다</td>\n",
       "      <td>0.956</td>\n",
       "      <td>0.044</td>\n",
       "      <td>0</td>\n",
       "    </tr>\n",
       "    <tr>\n",
       "      <th>4</th>\n",
       "      <td>마닷 진짜 부럽네 역시 영앤리치인가ㅠ</td>\n",
       "      <td>0.958</td>\n",
       "      <td>0.042</td>\n",
       "      <td>0</td>\n",
       "    </tr>\n",
       "  </tbody>\n",
       "</table>\n",
       "</div>"
      ],
      "text/plain": [
       "                                         text   none  curse  label\n",
       "0                     낯짝도 두껍다 ㄷㄷㄷ 티비에 버젓이 나오네  0.893  0.107      0\n",
       "1                         20대에는 고환에서 적당히해 하면서  0.957  0.043      0\n",
       "2  배성재 저놈이 저러니깐 더 이상하다논란되는 애들 존나 칼같이 컷하네 ㅋㅋㅋㅋ  0.038  0.962      1\n",
       "3                   눈수술검사할때 이거 띄우고 노캠방 하면 되겠다  0.956  0.044      0\n",
       "4                        마닷 진짜 부럽네 역시 영앤리치인가ㅠ  0.958  0.042      0"
      ]
     },
     "execution_count": 23,
     "metadata": {},
     "output_type": "execute_result"
    }
   ],
   "source": [
    "labeled = (df_inf[\"none\"] < df_inf[\"curse\"]).astype(int)\n",
    "df_inf['label'] = labeled\n",
    "df_inf.head()"
   ]
  },
  {
   "cell_type": "code",
   "execution_count": 24,
   "id": "88924a4f-ca2b-4ea8-9d99-d005e6d5877f",
   "metadata": {},
   "outputs": [
    {
     "name": "stdout",
     "output_type": "stream",
     "text": [
      "15641\n"
     ]
    },
    {
     "data": {
      "text/html": [
       "<div>\n",
       "<style scoped>\n",
       "    .dataframe tbody tr th:only-of-type {\n",
       "        vertical-align: middle;\n",
       "    }\n",
       "\n",
       "    .dataframe tbody tr th {\n",
       "        vertical-align: top;\n",
       "    }\n",
       "\n",
       "    .dataframe thead th {\n",
       "        text-align: right;\n",
       "    }\n",
       "</style>\n",
       "<table border=\"1\" class=\"dataframe\">\n",
       "  <thead>\n",
       "    <tr style=\"text-align: right;\">\n",
       "      <th></th>\n",
       "      <th>text</th>\n",
       "      <th>label</th>\n",
       "    </tr>\n",
       "  </thead>\n",
       "  <tbody>\n",
       "    <tr>\n",
       "      <th>0</th>\n",
       "      <td>낯짝도 두껍다 ㄷㄷㄷ 티비에 버젓이 나오네</td>\n",
       "      <td>1</td>\n",
       "    </tr>\n",
       "    <tr>\n",
       "      <th>1</th>\n",
       "      <td>20대에는 고환에서 적당히해 하면서</td>\n",
       "      <td>0</td>\n",
       "    </tr>\n",
       "    <tr>\n",
       "      <th>2</th>\n",
       "      <td>배성재 저놈이 저러니깐 더 이상하다논란되는 애들 존나 칼같이 컷하네 ㅋㅋㅋㅋ</td>\n",
       "      <td>1</td>\n",
       "    </tr>\n",
       "    <tr>\n",
       "      <th>3</th>\n",
       "      <td>눈수술검사할때 이거 띄우고 노캠방 하면 되겠다</td>\n",
       "      <td>0</td>\n",
       "    </tr>\n",
       "    <tr>\n",
       "      <th>4</th>\n",
       "      <td>마닷 진짜 부럽네 역시 영앤리치인가ㅠ</td>\n",
       "      <td>0</td>\n",
       "    </tr>\n",
       "  </tbody>\n",
       "</table>\n",
       "</div>"
      ],
      "text/plain": [
       "                                         text  label\n",
       "0                     낯짝도 두껍다 ㄷㄷㄷ 티비에 버젓이 나오네      1\n",
       "1                         20대에는 고환에서 적당히해 하면서      0\n",
       "2  배성재 저놈이 저러니깐 더 이상하다논란되는 애들 존나 칼같이 컷하네 ㅋㅋㅋㅋ      1\n",
       "3                   눈수술검사할때 이거 띄우고 노캠방 하면 되겠다      0\n",
       "4                        마닷 진짜 부럽네 역시 영앤리치인가ㅠ      0"
      ]
     },
     "execution_count": 24,
     "metadata": {},
     "output_type": "execute_result"
    }
   ],
   "source": [
    "df_trn = pd.read_csv(f\"./data/{name}.tsv\", sep='\\t')\n",
    "# df_trn['label'] = df_trn['label'].astype(int)\n",
    "# df_trn = df_trn[['text', 'none', 'curse', 'label']]\n",
    "print(len(df_trn))\n",
    "df_trn.head()"
   ]
  },
  {
   "cell_type": "code",
   "execution_count": 25,
   "id": "70645922-bb8c-4906-b676-c6b680de6d41",
   "metadata": {},
   "outputs": [
    {
     "data": {
      "text/html": [
       "<div>\n",
       "<style scoped>\n",
       "    .dataframe tbody tr th:only-of-type {\n",
       "        vertical-align: middle;\n",
       "    }\n",
       "\n",
       "    .dataframe tbody tr th {\n",
       "        vertical-align: top;\n",
       "    }\n",
       "\n",
       "    .dataframe thead th {\n",
       "        text-align: right;\n",
       "    }\n",
       "</style>\n",
       "<table border=\"1\" class=\"dataframe\">\n",
       "  <thead>\n",
       "    <tr style=\"text-align: right;\">\n",
       "      <th></th>\n",
       "      <th>text</th>\n",
       "      <th>label</th>\n",
       "    </tr>\n",
       "  </thead>\n",
       "  <tbody>\n",
       "    <tr>\n",
       "      <th>0</th>\n",
       "      <td>낯짝도 두껍다 ㄷㄷㄷ 티비에 버젓이 나오네</td>\n",
       "      <td>1</td>\n",
       "    </tr>\n",
       "    <tr>\n",
       "      <th>6</th>\n",
       "      <td>라이언 대박 멋지고 웃기고 다함ㅠㅠㅠ</td>\n",
       "      <td>0</td>\n",
       "    </tr>\n",
       "    <tr>\n",
       "      <th>9</th>\n",
       "      <td>대구 시장 권영진 하는 꼬라지 보니깐</td>\n",
       "      <td>1</td>\n",
       "    </tr>\n",
       "    <tr>\n",
       "      <th>17</th>\n",
       "      <td>그러니깐 딜도로 쑤셔박아야한다는거지?</td>\n",
       "      <td>1</td>\n",
       "    </tr>\n",
       "    <tr>\n",
       "      <th>45</th>\n",
       "      <td>쇼타꼬추조아?ㄷ</td>\n",
       "      <td>1</td>\n",
       "    </tr>\n",
       "    <tr>\n",
       "      <th>...</th>\n",
       "      <td>...</td>\n",
       "      <td>...</td>\n",
       "    </tr>\n",
       "    <tr>\n",
       "      <th>15445</th>\n",
       "      <td>못생긴 니가 이해해라 울지말고 얘기하고</td>\n",
       "      <td>1</td>\n",
       "    </tr>\n",
       "    <tr>\n",
       "      <th>15464</th>\n",
       "      <td>미친사람들 ㅋㅋㅋㅋ</td>\n",
       "      <td>0</td>\n",
       "    </tr>\n",
       "    <tr>\n",
       "      <th>15466</th>\n",
       "      <td>오벨이라 안부른데 ㅅㅂㅋㅋㅋ</td>\n",
       "      <td>1</td>\n",
       "    </tr>\n",
       "    <tr>\n",
       "      <th>15477</th>\n",
       "      <td>다나는 뚱땡이래도 이쁘다나</td>\n",
       "      <td>1</td>\n",
       "    </tr>\n",
       "    <tr>\n",
       "      <th>15529</th>\n",
       "      <td>약했나 쪼개기는</td>\n",
       "      <td>1</td>\n",
       "    </tr>\n",
       "  </tbody>\n",
       "</table>\n",
       "<p>430 rows × 2 columns</p>\n",
       "</div>"
      ],
      "text/plain": [
       "                          text  label\n",
       "0      낯짝도 두껍다 ㄷㄷㄷ 티비에 버젓이 나오네      1\n",
       "6         라이언 대박 멋지고 웃기고 다함ㅠㅠㅠ      0\n",
       "9         대구 시장 권영진 하는 꼬라지 보니깐      1\n",
       "17        그러니깐 딜도로 쑤셔박아야한다는거지?      1\n",
       "45                    쇼타꼬추조아?ㄷ      1\n",
       "...                        ...    ...\n",
       "15445    못생긴 니가 이해해라 울지말고 얘기하고      1\n",
       "15464               미친사람들 ㅋㅋㅋㅋ      0\n",
       "15466          오벨이라 안부른데 ㅅㅂㅋㅋㅋ      1\n",
       "15477           다나는 뚱땡이래도 이쁘다나      1\n",
       "15529                 약했나 쪼개기는      1\n",
       "\n",
       "[430 rows x 2 columns]"
      ]
     },
     "execution_count": 25,
     "metadata": {},
     "output_type": "execute_result"
    }
   ],
   "source": [
    "df_trn[df_inf['label'] != df_trn['label']]"
   ]
  },
  {
   "cell_type": "code",
   "execution_count": 26,
   "id": "1e5c945e-8d1d-494d-9699-e65fbd940771",
   "metadata": {},
   "outputs": [],
   "source": [
    "# df_trn[df_inf['label'] != df_trn['label']][['text', 'label']].to_csv(\"check_again.tsv\", sep='\\t', index=False)\n",
    "# df_trn[df_inf['label'] == df_trn['label']][['text', 'label']].to_csv(\"same_label.tsv\", sep='\\t', index=False)"
   ]
  },
  {
   "cell_type": "code",
   "execution_count": 27,
   "id": "8be81760-6ff2-42cf-b7f2-d4bbda3c0038",
   "metadata": {},
   "outputs": [
    {
     "data": {
      "text/plain": [
       "853"
      ]
     },
     "execution_count": 27,
     "metadata": {},
     "output_type": "execute_result"
    }
   ],
   "source": [
    "idx1 = df_inf[df_inf['curse'] < 0.9].index\n",
    "idx2 = df_inf[df_inf['none'] < 0.9].index\n",
    "idx3 = df_trn[df_inf['label'] != df_trn['label']].index\n",
    "len(df_trn.iloc[idx1 & idx2 | idx3][['text', 'label']])"
   ]
  },
  {
   "cell_type": "code",
   "execution_count": 28,
   "id": "63a8d250-245b-4417-907c-422f77c9875d",
   "metadata": {},
   "outputs": [],
   "source": [
    "df_trn.iloc[idx1 & idx2 | idx3][['text', 'label']].to_csv(\"check_again.tsv\", sep='\\t', index=False)\n",
    "df_trn.drop(index=(idx1 & idx2 | idx3))[['text', 'label']].to_csv(\"same_label.tsv\", sep='\\t', index=False)"
   ]
  },
  {
   "cell_type": "code",
   "execution_count": 29,
   "id": "563ad8ee-dec6-4a4b-b077-4ab305b2151b",
   "metadata": {},
   "outputs": [
    {
     "name": "stdout",
     "output_type": "stream",
     "text": [
      "15679\n"
     ]
    },
    {
     "data": {
      "text/html": [
       "<div>\n",
       "<style scoped>\n",
       "    .dataframe tbody tr th:only-of-type {\n",
       "        vertical-align: middle;\n",
       "    }\n",
       "\n",
       "    .dataframe tbody tr th {\n",
       "        vertical-align: top;\n",
       "    }\n",
       "\n",
       "    .dataframe thead th {\n",
       "        text-align: right;\n",
       "    }\n",
       "</style>\n",
       "<table border=\"1\" class=\"dataframe\">\n",
       "  <thead>\n",
       "    <tr style=\"text-align: right;\">\n",
       "      <th></th>\n",
       "      <th>text</th>\n",
       "      <th>label</th>\n",
       "    </tr>\n",
       "  </thead>\n",
       "  <tbody>\n",
       "    <tr>\n",
       "      <th>0</th>\n",
       "      <td>낯짝도 두껍다 ㄷㄷㄷ 티비에 버젓이 나오네</td>\n",
       "      <td>1</td>\n",
       "    </tr>\n",
       "    <tr>\n",
       "      <th>1</th>\n",
       "      <td>라이언 대박 멋지고 웃기고 다함ㅠㅠㅠ</td>\n",
       "      <td>0</td>\n",
       "    </tr>\n",
       "    <tr>\n",
       "      <th>2</th>\n",
       "      <td>대구 시장 권영진 하는 꼬라지 보니깐</td>\n",
       "      <td>1</td>\n",
       "    </tr>\n",
       "    <tr>\n",
       "      <th>3</th>\n",
       "      <td>그러니깐 딜도로 쑤셔박아야한다는거지?</td>\n",
       "      <td>1</td>\n",
       "    </tr>\n",
       "    <tr>\n",
       "      <th>4</th>\n",
       "      <td>딜도로 끝까지 박아넣으면 물이 줄줄 나옴</td>\n",
       "      <td>1</td>\n",
       "    </tr>\n",
       "  </tbody>\n",
       "</table>\n",
       "</div>"
      ],
      "text/plain": [
       "                      text  label\n",
       "0  낯짝도 두껍다 ㄷㄷㄷ 티비에 버젓이 나오네      1\n",
       "1     라이언 대박 멋지고 웃기고 다함ㅠㅠㅠ      0\n",
       "2     대구 시장 권영진 하는 꼬라지 보니깐      1\n",
       "3     그러니깐 딜도로 쑤셔박아야한다는거지?      1\n",
       "4   딜도로 끝까지 박아넣으면 물이 줄줄 나옴      1"
      ]
     },
     "execution_count": 29,
     "metadata": {},
     "output_type": "execute_result"
    }
   ],
   "source": [
    "df_ca = pd.read_csv(\"check_again.tsv\", sep='\\t')\n",
    "df_sl = pd.read_csv(\"same_label.tsv\", sep='\\t')\n",
    "# df_train = pd.read_csv(\"./data/train.tsv\", sep='\\t')\n",
    "# df_trn_again = pd.concat([df_ca, df_sl, df_train], ignore_index=True)\n",
    "df_trn_again = pd.concat([df_ca, df_sl], ignore_index=True)\n",
    "print(len(df_trn_again))\n",
    "df_trn_again.head()"
   ]
  },
  {
   "cell_type": "code",
   "execution_count": 30,
   "id": "9711f669-3bcf-4152-8502-eb9ca8c0319e",
   "metadata": {},
   "outputs": [
    {
     "name": "stdout",
     "output_type": "stream",
     "text": [
      "ㅁㅈㅎ\n",
      "ㅆㅅㅌㅊ\n"
     ]
    }
   ],
   "source": [
    "text_set = set()\n",
    "drop_index = []\n",
    "for i in range(len(df_trn_again)):\n",
    "    if df_trn_again.iloc[i, 0] in text_set:\n",
    "        print(df_trn_again.iloc[i, 0])\n",
    "        drop_index.append(i)\n",
    "    else:\n",
    "        text_set.add(df_trn_again.iloc[i, 0])"
   ]
  },
  {
   "cell_type": "code",
   "execution_count": 31,
   "id": "5ed88351-7d70-427c-b985-45cae498c8f9",
   "metadata": {},
   "outputs": [
    {
     "name": "stdout",
     "output_type": "stream",
     "text": [
      "15677\n"
     ]
    },
    {
     "data": {
      "text/html": [
       "<div>\n",
       "<style scoped>\n",
       "    .dataframe tbody tr th:only-of-type {\n",
       "        vertical-align: middle;\n",
       "    }\n",
       "\n",
       "    .dataframe tbody tr th {\n",
       "        vertical-align: top;\n",
       "    }\n",
       "\n",
       "    .dataframe thead th {\n",
       "        text-align: right;\n",
       "    }\n",
       "</style>\n",
       "<table border=\"1\" class=\"dataframe\">\n",
       "  <thead>\n",
       "    <tr style=\"text-align: right;\">\n",
       "      <th></th>\n",
       "      <th>text</th>\n",
       "      <th>label</th>\n",
       "    </tr>\n",
       "  </thead>\n",
       "  <tbody>\n",
       "    <tr>\n",
       "      <th>0</th>\n",
       "      <td>ㄷ</td>\n",
       "      <td>0</td>\n",
       "    </tr>\n",
       "    <tr>\n",
       "      <th>1</th>\n",
       "      <td>정의구현 뵨사마 존경합니다</td>\n",
       "      <td>0</td>\n",
       "    </tr>\n",
       "    <tr>\n",
       "      <th>2</th>\n",
       "      <td>땅꼬마들</td>\n",
       "      <td>0</td>\n",
       "    </tr>\n",
       "    <tr>\n",
       "      <th>3</th>\n",
       "      <td>숙녀는 너무했네ㅜㅋㅋㅋ</td>\n",
       "      <td>0</td>\n",
       "    </tr>\n",
       "    <tr>\n",
       "      <th>4</th>\n",
       "      <td>역시 총이 강하군</td>\n",
       "      <td>0</td>\n",
       "    </tr>\n",
       "    <tr>\n",
       "      <th>...</th>\n",
       "      <td>...</td>\n",
       "      <td>...</td>\n",
       "    </tr>\n",
       "    <tr>\n",
       "      <th>15672</th>\n",
       "      <td>식상하다 돈벌어봐야 또 집장사나하겠지..ㅉㅉ</td>\n",
       "      <td>0</td>\n",
       "    </tr>\n",
       "    <tr>\n",
       "      <th>15673</th>\n",
       "      <td>이마가 공이네</td>\n",
       "      <td>0</td>\n",
       "    </tr>\n",
       "    <tr>\n",
       "      <th>15674</th>\n",
       "      <td>동성애 똥꼬충들한테 동성애는 되는데 근친은 왜 안되냐 하면 온갖 현학적인 용어 들어...</td>\n",
       "      <td>1</td>\n",
       "    </tr>\n",
       "    <tr>\n",
       "      <th>15675</th>\n",
       "      <td>그만해라 죽은고인인데 가족들까지 괴롭히냐</td>\n",
       "      <td>0</td>\n",
       "    </tr>\n",
       "    <tr>\n",
       "      <th>15676</th>\n",
       "      <td>결혼식해야쥐왜안해</td>\n",
       "      <td>0</td>\n",
       "    </tr>\n",
       "  </tbody>\n",
       "</table>\n",
       "<p>15677 rows × 2 columns</p>\n",
       "</div>"
      ],
      "text/plain": [
       "                                                    text  label\n",
       "0                                                      ㄷ      0\n",
       "1                                         정의구현 뵨사마 존경합니다      0\n",
       "2                                                   땅꼬마들      0\n",
       "3                                           숙녀는 너무했네ㅜㅋㅋㅋ      0\n",
       "4                                              역시 총이 강하군      0\n",
       "...                                                  ...    ...\n",
       "15672                           식상하다 돈벌어봐야 또 집장사나하겠지..ㅉㅉ      0\n",
       "15673                                            이마가 공이네      0\n",
       "15674  동성애 똥꼬충들한테 동성애는 되는데 근친은 왜 안되냐 하면 온갖 현학적인 용어 들어...      1\n",
       "15675                             그만해라 죽은고인인데 가족들까지 괴롭히냐      0\n",
       "15676                                          결혼식해야쥐왜안해      0\n",
       "\n",
       "[15677 rows x 2 columns]"
      ]
     },
     "execution_count": 31,
     "metadata": {},
     "output_type": "execute_result"
    }
   ],
   "source": [
    "import numpy as np\n",
    "import random\n",
    "\n",
    "x = np.random.permutation(len(df_trn_again.drop(index=drop_index).reset_index(drop=True)))\n",
    "df_trn_again_ = df_trn_again.drop(index=drop_index).reset_index(drop=True).iloc[x].reset_index(drop=True)\n",
    "print(len(df_trn_again_))\n",
    "df_trn_again_"
   ]
  },
  {
   "cell_type": "code",
   "execution_count": 32,
   "id": "a023eab4-2679-491b-a0fb-4e8b0b7357f7",
   "metadata": {},
   "outputs": [],
   "source": [
    "df_trn_again_.to_csv(\"./data/train.tsv\", sep='\\t', index=False)"
   ]
  },
  {
   "cell_type": "code",
   "execution_count": 5,
   "id": "71104793-fbe5-442d-b0a7-036c2bb3b871",
   "metadata": {},
   "outputs": [],
   "source": [
    "from tqdm import trange\n",
    "import re\n",
    "from pprint import pprint"
   ]
  },
  {
   "cell_type": "code",
   "execution_count": 7,
   "id": "e45c0ea3-da15-4dd3-bb77-c20b0ec11f10",
   "metadata": {},
   "outputs": [
    {
     "data": {
      "text/plain": [
       "11.970855"
      ]
     },
     "execution_count": 7,
     "metadata": {},
     "output_type": "execute_result"
    }
   ],
   "source": [
    "sum = 0\n",
    "for t in df['text']:\n",
    "    sum += len(t)\n",
    "sum/len(df)"
   ]
  },
  {
   "cell_type": "code",
   "execution_count": 8,
   "id": "ed05d812-8802-49b4-b7e9-98bf66810263",
   "metadata": {},
   "outputs": [
    {
     "data": {
      "text/html": [
       "<div>\n",
       "<style scoped>\n",
       "    .dataframe tbody tr th:only-of-type {\n",
       "        vertical-align: middle;\n",
       "    }\n",
       "\n",
       "    .dataframe tbody tr th {\n",
       "        vertical-align: top;\n",
       "    }\n",
       "\n",
       "    .dataframe thead th {\n",
       "        text-align: right;\n",
       "    }\n",
       "</style>\n",
       "<table border=\"1\" class=\"dataframe\">\n",
       "  <thead>\n",
       "    <tr style=\"text-align: right;\">\n",
       "      <th></th>\n",
       "      <th>text</th>\n",
       "      <th>none</th>\n",
       "      <th>curse</th>\n",
       "    </tr>\n",
       "  </thead>\n",
       "  <tbody>\n",
       "    <tr>\n",
       "      <th>0</th>\n",
       "      <td>이건 실사 아닐까?</td>\n",
       "      <td>0.942</td>\n",
       "      <td>0.058</td>\n",
       "    </tr>\n",
       "    <tr>\n",
       "      <th>1</th>\n",
       "      <td>끄겠는데?</td>\n",
       "      <td>0.989</td>\n",
       "      <td>0.011</td>\n",
       "    </tr>\n",
       "    <tr>\n",
       "      <th>2</th>\n",
       "      <td>머머리?...</td>\n",
       "      <td>0.975</td>\n",
       "      <td>0.025</td>\n",
       "    </tr>\n",
       "    <tr>\n",
       "      <th>3</th>\n",
       "      <td>일주일에 1회씩... 너무 기다리기 힘들었다</td>\n",
       "      <td>0.655</td>\n",
       "      <td>0.345</td>\n",
       "    </tr>\n",
       "    <tr>\n",
       "      <th>4</th>\n",
       "      <td>코끼리코게임 위험합니다.</td>\n",
       "      <td>0.995</td>\n",
       "      <td>0.005</td>\n",
       "    </tr>\n",
       "  </tbody>\n",
       "</table>\n",
       "</div>"
      ],
      "text/plain": [
       "                       text   none  curse\n",
       "0                이건 실사 아닐까?  0.942  0.058\n",
       "1                     끄겠는데?  0.989  0.011\n",
       "2                   머머리?...  0.975  0.025\n",
       "3  일주일에 1회씩... 너무 기다리기 힘들었다  0.655  0.345\n",
       "4             코끼리코게임 위험합니다.  0.995  0.005"
      ]
     },
     "execution_count": 8,
     "metadata": {},
     "output_type": "execute_result"
    }
   ],
   "source": [
    "df.head()"
   ]
  },
  {
   "cell_type": "code",
   "execution_count": 22,
   "id": "553979e2-96f4-49b4-972d-77527a5ba8d9",
   "metadata": {},
   "outputs": [
    {
     "name": "stdout",
     "output_type": "stream",
     "text": [
      "33808\n"
     ]
    },
    {
     "name": "stderr",
     "output_type": "stream",
     "text": [
      "/opt/conda/envs/lightweight/lib/python3.7/site-packages/ipykernel_launcher.py:3: SettingWithCopyWarning: \n",
      "A value is trying to be set on a copy of a slice from a DataFrame.\n",
      "Try using .loc[row_indexer,col_indexer] = value instead\n",
      "\n",
      "See the caveats in the documentation: https://pandas.pydata.org/pandas-docs/stable/user_guide/indexing.html#returning-a-view-versus-a-copy\n",
      "  This is separate from the ipykernel package so we can avoid doing imports until\n"
     ]
    },
    {
     "data": {
      "text/html": [
       "<div>\n",
       "<style scoped>\n",
       "    .dataframe tbody tr th:only-of-type {\n",
       "        vertical-align: middle;\n",
       "    }\n",
       "\n",
       "    .dataframe tbody tr th {\n",
       "        vertical-align: top;\n",
       "    }\n",
       "\n",
       "    .dataframe thead th {\n",
       "        text-align: right;\n",
       "    }\n",
       "</style>\n",
       "<table border=\"1\" class=\"dataframe\">\n",
       "  <thead>\n",
       "    <tr style=\"text-align: right;\">\n",
       "      <th></th>\n",
       "      <th>text</th>\n",
       "      <th>none</th>\n",
       "      <th>curse</th>\n",
       "      <th>label</th>\n",
       "    </tr>\n",
       "  </thead>\n",
       "  <tbody>\n",
       "    <tr>\n",
       "      <th>6</th>\n",
       "      <td>xkwhdVkf1 xkwhdApfhd xkwhdVkf2 xkwhdVkf1 xkwhd...</td>\n",
       "      <td>0.348</td>\n",
       "      <td>0.652</td>\n",
       "      <td>1</td>\n",
       "    </tr>\n",
       "    <tr>\n",
       "      <th>13</th>\n",
       "      <td>형 몸이 안 남아나겠다</td>\n",
       "      <td>0.056</td>\n",
       "      <td>0.944</td>\n",
       "      <td>1</td>\n",
       "    </tr>\n",
       "    <tr>\n",
       "      <th>20</th>\n",
       "      <td>그래픽이 더 좋아진거 같냐</td>\n",
       "      <td>0.052</td>\n",
       "      <td>0.948</td>\n",
       "      <td>1</td>\n",
       "    </tr>\n",
       "    <tr>\n",
       "      <th>21</th>\n",
       "      <td>뭐여.. 결국은 아.씨.발.꿈이여?</td>\n",
       "      <td>0.040</td>\n",
       "      <td>0.960</td>\n",
       "      <td>1</td>\n",
       "    </tr>\n",
       "    <tr>\n",
       "      <th>30</th>\n",
       "      <td>미안해로희야아빠닮아서어떻게ㅠ</td>\n",
       "      <td>0.010</td>\n",
       "      <td>0.990</td>\n",
       "      <td>1</td>\n",
       "    </tr>\n",
       "    <tr>\n",
       "      <th>35</th>\n",
       "      <td>기승전 물고빨고 키스질 개극혐</td>\n",
       "      <td>0.025</td>\n",
       "      <td>0.975</td>\n",
       "      <td>1</td>\n",
       "    </tr>\n",
       "    <tr>\n",
       "      <th>37</th>\n",
       "      <td>남캠방송 ㅋㅋㅋ</td>\n",
       "      <td>0.458</td>\n",
       "      <td>0.542</td>\n",
       "      <td>1</td>\n",
       "    </tr>\n",
       "    <tr>\n",
       "      <th>39</th>\n",
       "      <td>이긴줄 알았네 ㅋㅋㅋㅋ</td>\n",
       "      <td>0.160</td>\n",
       "      <td>0.840</td>\n",
       "      <td>1</td>\n",
       "    </tr>\n",
       "    <tr>\n",
       "      <th>46</th>\n",
       "      <td>UI가 궁금해</td>\n",
       "      <td>0.053</td>\n",
       "      <td>0.947</td>\n",
       "      <td>1</td>\n",
       "    </tr>\n",
       "    <tr>\n",
       "      <th>63</th>\n",
       "      <td>아니 신경쓰이면 지가 껏겟지 도네 ㅋㅋ</td>\n",
       "      <td>0.003</td>\n",
       "      <td>0.997</td>\n",
       "      <td>1</td>\n",
       "    </tr>\n",
       "  </tbody>\n",
       "</table>\n",
       "</div>"
      ],
      "text/plain": [
       "                                                 text   none  curse  label\n",
       "6   xkwhdVkf1 xkwhdApfhd xkwhdVkf2 xkwhdVkf1 xkwhd...  0.348  0.652      1\n",
       "13                                       형 몸이 안 남아나겠다  0.056  0.944      1\n",
       "20                                     그래픽이 더 좋아진거 같냐  0.052  0.948      1\n",
       "21                                뭐여.. 결국은 아.씨.발.꿈이여?  0.040  0.960      1\n",
       "30                                    미안해로희야아빠닮아서어떻게ㅠ  0.010  0.990      1\n",
       "35                                   기승전 물고빨고 키스질 개극혐  0.025  0.975      1\n",
       "37                                           남캠방송 ㅋㅋㅋ  0.458  0.542      1\n",
       "39                                       이긴줄 알았네 ㅋㅋㅋㅋ  0.160  0.840      1\n",
       "46                                            UI가 궁금해  0.053  0.947      1\n",
       "63                              아니 신경쓰이면 지가 껏겟지 도네 ㅋㅋ  0.003  0.997      1"
      ]
     },
     "execution_count": 22,
     "metadata": {},
     "output_type": "execute_result"
    }
   ],
   "source": [
    "df_curse = df[df[\"curse\"] > df[\"none\"]]\n",
    "print(len(df_curse))\n",
    "df_curse['label'] = [1 for _ in range(len(df_curse))]\n",
    "df_curse.to_csv(\"pseudo.tsv\", index=False, sep='\\t')\n",
    "df_curse.head(10)"
   ]
  },
  {
   "cell_type": "code",
   "execution_count": 12,
   "id": "8ecd0f96-7977-49f3-83dc-b72f5c6d0db6",
   "metadata": {},
   "outputs": [
    {
     "data": {
      "text/html": [
       "<div>\n",
       "<style scoped>\n",
       "    .dataframe tbody tr th:only-of-type {\n",
       "        vertical-align: middle;\n",
       "    }\n",
       "\n",
       "    .dataframe tbody tr th {\n",
       "        vertical-align: top;\n",
       "    }\n",
       "\n",
       "    .dataframe thead th {\n",
       "        text-align: right;\n",
       "    }\n",
       "</style>\n",
       "<table border=\"1\" class=\"dataframe\">\n",
       "  <thead>\n",
       "    <tr style=\"text-align: right;\">\n",
       "      <th></th>\n",
       "      <th>text</th>\n",
       "      <th>none</th>\n",
       "      <th>curse</th>\n",
       "    </tr>\n",
       "  </thead>\n",
       "  <tbody>\n",
       "    <tr>\n",
       "      <th>0</th>\n",
       "      <td>이건 실사 아닐까?</td>\n",
       "      <td>0.942</td>\n",
       "      <td>0.058</td>\n",
       "    </tr>\n",
       "    <tr>\n",
       "      <th>1</th>\n",
       "      <td>끄겠는데?</td>\n",
       "      <td>0.989</td>\n",
       "      <td>0.011</td>\n",
       "    </tr>\n",
       "    <tr>\n",
       "      <th>2</th>\n",
       "      <td>머머리?...</td>\n",
       "      <td>0.975</td>\n",
       "      <td>0.025</td>\n",
       "    </tr>\n",
       "    <tr>\n",
       "      <th>3</th>\n",
       "      <td>일주일에 1회씩... 너무 기다리기 힘들었다</td>\n",
       "      <td>0.655</td>\n",
       "      <td>0.345</td>\n",
       "    </tr>\n",
       "    <tr>\n",
       "      <th>4</th>\n",
       "      <td>코끼리코게임 위험합니다.</td>\n",
       "      <td>0.995</td>\n",
       "      <td>0.005</td>\n",
       "    </tr>\n",
       "    <tr>\n",
       "      <th>5</th>\n",
       "      <td>요즘은 시간 가는줄 알고 본다</td>\n",
       "      <td>0.995</td>\n",
       "      <td>0.005</td>\n",
       "    </tr>\n",
       "    <tr>\n",
       "      <th>7</th>\n",
       "      <td>뭔가엄청 바르게큰거같다</td>\n",
       "      <td>0.987</td>\n",
       "      <td>0.013</td>\n",
       "    </tr>\n",
       "    <tr>\n",
       "      <th>8</th>\n",
       "      <td>애요</td>\n",
       "      <td>0.988</td>\n",
       "      <td>0.012</td>\n",
       "    </tr>\n",
       "    <tr>\n",
       "      <th>9</th>\n",
       "      <td>진정해 알렉스</td>\n",
       "      <td>0.987</td>\n",
       "      <td>0.013</td>\n",
       "    </tr>\n",
       "    <tr>\n",
       "      <th>10</th>\n",
       "      <td>아이는없었나요?</td>\n",
       "      <td>0.985</td>\n",
       "      <td>0.015</td>\n",
       "    </tr>\n",
       "  </tbody>\n",
       "</table>\n",
       "</div>"
      ],
      "text/plain": [
       "                        text   none  curse\n",
       "0                 이건 실사 아닐까?  0.942  0.058\n",
       "1                      끄겠는데?  0.989  0.011\n",
       "2                    머머리?...  0.975  0.025\n",
       "3   일주일에 1회씩... 너무 기다리기 힘들었다  0.655  0.345\n",
       "4              코끼리코게임 위험합니다.  0.995  0.005\n",
       "5           요즘은 시간 가는줄 알고 본다  0.995  0.005\n",
       "7               뭔가엄청 바르게큰거같다  0.987  0.013\n",
       "8                         애요  0.988  0.012\n",
       "9                    진정해 알렉스  0.987  0.013\n",
       "10                  아이는없었나요?  0.985  0.015"
      ]
     },
     "execution_count": 12,
     "metadata": {},
     "output_type": "execute_result"
    }
   ],
   "source": [
    "df[df[\"curse\"] < df[\"none\"]].head(10)"
   ]
  },
  {
   "cell_type": "code",
   "execution_count": 13,
   "id": "5cf1dbda-39f9-42fe-9d00-742f7d70f724",
   "metadata": {},
   "outputs": [],
   "source": [
    "id1 = df[df[\"none\"] < 0.5].index"
   ]
  },
  {
   "cell_type": "code",
   "execution_count": 14,
   "id": "b2d270a9-3b32-4cb3-b235-a1b301db663e",
   "metadata": {},
   "outputs": [],
   "source": [
    "id2 = df[df[\"curse\"] > 0.95].index"
   ]
  },
  {
   "cell_type": "code",
   "execution_count": null,
   "id": "4c972f07-1ab0-4836-a71e-ab077f6ce128",
   "metadata": {
    "tags": []
   },
   "outputs": [],
   "source": [
    "num = 0\n",
    "for i in id1 & id2:\n",
    "    if len(str(df.iloc[i][\"text\"])) < 30:\n",
    "        num += 1\n",
    "        print(i, df.iloc[i][\"text\"])\n",
    "print(\"\\nnum =\", num)"
   ]
  },
  {
   "cell_type": "code",
   "execution_count": null,
   "id": "7e2b9f98-b1ef-4e51-b859-3262a7e57015",
   "metadata": {},
   "outputs": [],
   "source": [
    "df['label'] = (df.none < df.curse).astype(int)\n",
    "np.sum(df[\"label\"])"
   ]
  },
  {
   "cell_type": "code",
   "execution_count": null,
   "id": "59333655-6940-40e9-af7c-733d6acff79f",
   "metadata": {
    "scrolled": true,
    "tags": []
   },
   "outputs": [],
   "source": [
    "df.head(20)"
   ]
  },
  {
   "cell_type": "code",
   "execution_count": null,
   "id": "79555726-d9fb-45ca-a0a1-124b2903b2a1",
   "metadata": {},
   "outputs": [],
   "source": [
    "curse = pd.read_csv(\"curse.csv\", index_col=0)\n",
    "curse.head()"
   ]
  },
  {
   "cell_type": "code",
   "execution_count": null,
   "id": "5232ad94-2778-497e-aa55-3f69cdac782b",
   "metadata": {},
   "outputs": [],
   "source": [
    "df = pd.concat([curse, df.iloc[:50_000][['text', 'label']]], axis=0, ignore_index=True)"
   ]
  },
  {
   "cell_type": "code",
   "execution_count": null,
   "id": "21d87f34-3160-4587-bad6-38e2d3768a08",
   "metadata": {},
   "outputs": [],
   "source": [
    "df[[\"text\", \"label\"]].to_csv(\"validation.tsv\", index=False, sep='\\t')"
   ]
  },
  {
   "cell_type": "code",
   "execution_count": null,
   "id": "c0d88f9a-3519-4cb7-95f0-2efeec966170",
   "metadata": {},
   "outputs": [],
   "source": []
  }
 ],
 "metadata": {
  "kernelspec": {
   "display_name": "lightweight",
   "language": "python",
   "name": "lightweight"
  },
  "language_info": {
   "codemirror_mode": {
    "name": "ipython",
    "version": 3
   },
   "file_extension": ".py",
   "mimetype": "text/x-python",
   "name": "python",
   "nbconvert_exporter": "python",
   "pygments_lexer": "ipython3",
   "version": "3.7.11"
  }
 },
 "nbformat": 4,
 "nbformat_minor": 5
}
