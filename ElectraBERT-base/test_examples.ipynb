{
 "cells": [
  {
   "cell_type": "code",
   "execution_count": 1,
   "id": "b9ad532d-f264-493b-8b55-b454cea6abd9",
   "metadata": {},
   "outputs": [],
   "source": [
    "from tqdm import trange\n",
    "import numpy as np\n",
    "import pandas as pd\n",
    "import torch\n",
    "from transformers import AutoModelForSequenceClassification\n",
    "from tokenizers import BertWordPieceTokenizer\n",
    "\n",
    "import argparse\n",
    "import os"
   ]
  },
  {
   "cell_type": "code",
   "execution_count": 20,
   "id": "129b39a0-dd8b-4c6e-8ee4-91af6e19f1b0",
   "metadata": {},
   "outputs": [],
   "source": [
    "def exec(text: str, tokenizer) -> None:\n",
    "    max_length = 256\n",
    "    encoded = tokenizer.encode(text)\n",
    "    encoded.pad(max_length)\n",
    "    encoded.truncate(max_length)\n",
    "    input_ids = torch.tensor([encoded.ids]).to(device)\n",
    "    token_type_ids = torch.tensor([encoded.type_ids]).to(device)\n",
    "    attention_mask = torch.tensor([encoded.attention_mask]).to(device)\n",
    "    output = model(input_ids=input_ids, token_type_ids=token_type_ids, attention_mask=attention_mask)\n",
    "    softmax = torch.nn.Softmax(dim=1)(output['logits'])\n",
    "    return (1 if output['logits'].argmax(-1)==1 else 0), softmax[0][0], softmax[0][1]\n",
    "\n",
    "model = AutoModelForSequenceClassification.from_pretrained('./')\n",
    "model.eval()\n",
    "device = torch.device('cuda' if torch.cuda.is_available() else 'cpu')\n",
    "model.to(device)\n",
    "tokenizer = BertWordPieceTokenizer(\n",
    "    \"./vocab.txt\",\n",
    "    clean_text=True,\n",
    "    handle_chinese_chars=True,\n",
    "    strip_accents=False,\n",
    "    lowercase=False,\n",
    "    wordpieces_prefix=\"##\",\n",
    ")"
   ]
  },
  {
   "cell_type": "code",
   "execution_count": 23,
   "id": "2d609221-bad2-4a4c-8236-76ab37e4b559",
   "metadata": {},
   "outputs": [
    {
     "name": "stdout",
     "output_type": "stream",
     "text": [
      "['[CLS]', '아버지가', '##방에', '##들어가', '##신다', '[SEP]']\n",
      "none, 0.971718, 0.028282\n",
      "\n",
      "CPU times: user 20 ms, sys: 4 ms, total: 24 ms\n",
      "Wall time: 24 ms\n"
     ]
    }
   ],
   "source": [
    "%%time\n",
    "test = \"아버지가방에들어가신다\"\n",
    "\n",
    "print(tokenizer.encode(test).tokens)\n",
    "label, none, curse = exec(test, tokenizer)\n",
    "print(f\"{'curse' if label else 'none'}, {none:f}, {curse:f}\")\n",
    "print()"
   ]
  },
  {
   "cell_type": "code",
   "execution_count": 8,
   "id": "2704f95c-4953-4dd3-b124-879c6fb73783",
   "metadata": {},
   "outputs": [
    {
     "data": {
      "text/plain": [
       "'어죽'"
      ]
     },
     "execution_count": 8,
     "metadata": {},
     "output_type": "execute_result"
    }
   ],
   "source": [
    "import random\n",
    "\n",
    "t = test.split()\n",
    "n_t = ''\n",
    "for w in t:\n",
    "    n_t = ' '.join([n_t, ''.join(random.sample(w, k=len(w)))])\n",
    "n_t.strip()"
   ]
  },
  {
   "cell_type": "code",
   "execution_count": null,
   "id": "d3ecaa27-add0-4452-b904-a658197c2318",
   "metadata": {},
   "outputs": [],
   "source": []
  }
 ],
 "metadata": {
  "kernelspec": {
   "display_name": "lightweight",
   "language": "python",
   "name": "lightweight"
  },
  "language_info": {
   "codemirror_mode": {
    "name": "ipython",
    "version": 3
   },
   "file_extension": ".py",
   "mimetype": "text/x-python",
   "name": "python",
   "nbconvert_exporter": "python",
   "pygments_lexer": "ipython3",
   "version": "3.7.11"
  }
 },
 "nbformat": 4,
 "nbformat_minor": 5
}
